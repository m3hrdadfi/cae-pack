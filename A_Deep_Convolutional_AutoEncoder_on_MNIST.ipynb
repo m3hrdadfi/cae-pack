{
  "nbformat": 4,
  "nbformat_minor": 0,
  "metadata": {
    "colab": {
      "name": "A Deep Convolutional AutoEncoder on MNIST.ipynb",
      "version": "0.3.2",
      "views": {},
      "default_view": {},
      "provenance": [],
      "collapsed_sections": []
    },
    "kernelspec": {
      "name": "python3",
      "display_name": "Python 3"
    },
    "accelerator": "GPU"
  },
  "cells": [
    {
      "metadata": {
        "id": "icZhZnkfBGvo",
        "colab_type": "text"
      },
      "cell_type": "markdown",
      "source": [
        "# Introduction to Autoencoders\n",
        "\n",
        "An autoencoder is a neural network that is trained to copy its input to its output, with the typical purpose of dimension reduction - the process of reducing the number of random variables under consideration. It features an encoder function to create a hidden layer (or multiple layers) which contains a code to describe the input. There is then a decoder which creates a reconstruction of the input from the hidden layer."
      ]
    },
    {
      "metadata": {
        "id": "nBMW__0hBG4C",
        "colab_type": "text"
      },
      "cell_type": "markdown",
      "source": [
        "# Introduction to MNIST (handwritten digit database)\n",
        "\n",
        "The MNIST database of handwritten digits, available from this page, has a training set of 60,000 examples, and a test set of 10,000 examples. It is a subset of a larger set available from NIST. The digits have been size-normalized and centered in a fixed-size image.\n",
        "The original black and white (bilevel) images from NIST were size normalized to fit in a 20x20 pixel box while preserving their aspect ratio. The resulting images contain grey levels as a result of the anti-aliasing technique used by the normalization algorithm. the images were centered in a 28x28 image by computing the center of mass of the pixels, and translating the image so as to position this point at the center of the 28x28 field."
      ]
    },
    {
      "metadata": {
        "id": "nJMpNVZJEvpa",
        "colab_type": "text"
      },
      "cell_type": "markdown",
      "source": [
        "# Import requied packages "
      ]
    },
    {
      "metadata": {
        "id": "pzGE0LmNEwri",
        "colab_type": "code",
        "colab": {
          "autoexec": {
            "startup": false,
            "wait_interval": 0
          }
        }
      },
      "cell_type": "code",
      "source": [
        "import numpy as np\n",
        "import matplotlib.pyplot as plt\n",
        "%matplotlib inline\n",
        "\n",
        "import os\n",
        "\n",
        "import tensorflow as tf\n",
        "from tensorflow.examples.tutorials.mnist import input_data"
      ],
      "execution_count": 0,
      "outputs": []
    },
    {
      "metadata": {
        "id": "smwQar_1E2uQ",
        "colab_type": "text"
      },
      "cell_type": "markdown",
      "source": [
        "# Load the MNIST"
      ]
    },
    {
      "metadata": {
        "id": "uUT3g9uIE0Cq",
        "colab_type": "code",
        "colab": {
          "autoexec": {
            "startup": false,
            "wait_interval": 0
          },
          "base_uri": "https://localhost:8080/",
          "height": 85
        },
        "outputId": "3d757fd0-4459-48c2-9fb1-d251652d5dcd",
        "executionInfo": {
          "status": "ok",
          "timestamp": 1524079056149,
          "user_tz": -270,
          "elapsed": 1077,
          "user": {
            "displayName": "Mehrdad Farahani",
            "photoUrl": "//lh4.googleusercontent.com/-FOBF4ymyk14/AAAAAAAAAAI/AAAAAAAAFNM/7qxH7khEwBs/s50-c-k-no/photo.jpg",
            "userId": "101963343510395721557"
          }
        }
      },
      "cell_type": "code",
      "source": [
        "mnist = input_data.read_data_sets(\"/tmp/MNIST_data/\",one_hot=True)"
      ],
      "execution_count": 2,
      "outputs": [
        {
          "output_type": "stream",
          "text": [
            "Extracting /tmp/MNIST_data/train-images-idx3-ubyte.gz\n",
            "Extracting /tmp/MNIST_data/train-labels-idx1-ubyte.gz\n",
            "Extracting /tmp/MNIST_data/t10k-images-idx3-ubyte.gz\n",
            "Extracting /tmp/MNIST_data/t10k-labels-idx1-ubyte.gz\n"
          ],
          "name": "stdout"
        }
      ]
    },
    {
      "metadata": {
        "id": "lzcd19jTE9g7",
        "colab_type": "text"
      },
      "cell_type": "markdown",
      "source": [
        "# CAE (Convolutional AutoEncoder) Architecture"
      ]
    },
    {
      "metadata": {
        "id": "0Xt7Xs3LE5aj",
        "colab_type": "code",
        "colab": {
          "autoexec": {
            "startup": false,
            "wait_interval": 0
          }
        }
      },
      "cell_type": "code",
      "source": [
        "X = tf.placeholder(tf.float32, shape=[None, 784])\n",
        "Xi = tf.reshape(X, [-1, 28, 28, 1])"
      ],
      "execution_count": 0,
      "outputs": []
    },
    {
      "metadata": {
        "id": "-ovAdxBvFNhx",
        "colab_type": "code",
        "colab": {
          "autoexec": {
            "startup": false,
            "wait_interval": 0
          }
        }
      },
      "cell_type": "code",
      "source": [
        "x = tf.layers.conv2d(Xi, filters=16, kernel_size=(3, 3), activation=tf.nn.relu, padding='SAME')\n",
        "x = tf.layers.max_pooling2d(x, pool_size=(2, 2), strides=(2, 2), padding='SAME')\n",
        "\n",
        "x = tf.layers.conv2d(x, filters=8, kernel_size=(3, 3), activation=tf.nn.relu, padding='SAME')\n",
        "x = tf.layers.max_pooling2d(x, pool_size=(2, 2), strides=(2, 2), padding='SAME')\n",
        "\n",
        "x = tf.layers.conv2d(x, filters=8, kernel_size=(3, 3), activation=tf.nn.relu, padding='SAME')\n",
        "encoded = tf.layers.max_pooling2d(x, pool_size=(2, 2), strides=(2, 2), padding='SAME')"
      ],
      "execution_count": 0,
      "outputs": []
    },
    {
      "metadata": {
        "id": "bJH4rVICFRBY",
        "colab_type": "code",
        "colab": {
          "autoexec": {
            "startup": false,
            "wait_interval": 0
          }
        }
      },
      "cell_type": "code",
      "source": [
        "x = tf.layers.conv2d(encoded, filters=8, kernel_size=(3, 3), activation=tf.nn.relu, padding='SAME')\n",
        "x = tf.layers.conv2d_transpose(x, filters=8, kernel_size=(2, 2), strides=(2, 2))\n",
        "\n",
        "x = tf.layers.conv2d(x, filters=8, kernel_size=(3, 3), activation=tf.nn.relu, padding='SAME')\n",
        "x = tf.layers.conv2d_transpose(x, filters=8, kernel_size=(2, 2), strides=(2, 2))\n",
        "\n",
        "x = tf.layers.conv2d(x, filters=16, kernel_size=(3, 3), activation=tf.nn.relu)\n",
        "x = tf.layers.conv2d_transpose(x, filters=16, kernel_size=(2, 2), strides=(2, 2))\n",
        "\n",
        "decoded = tf.layers.conv2d(x, filters=1, kernel_size=(3, 3), activation=tf.nn.relu, padding='SAME')"
      ],
      "execution_count": 0,
      "outputs": []
    },
    {
      "metadata": {
        "id": "XqsF6n9xFSwG",
        "colab_type": "code",
        "colab": {
          "autoexec": {
            "startup": false,
            "wait_interval": 0
          }
        }
      },
      "cell_type": "code",
      "source": [
        "loss = tf.reduce_mean(tf.square(Xi - decoded))"
      ],
      "execution_count": 0,
      "outputs": []
    },
    {
      "metadata": {
        "id": "lSbbUDMgFhY2",
        "colab_type": "code",
        "colab": {
          "autoexec": {
            "startup": false,
            "wait_interval": 0
          }
        }
      },
      "cell_type": "code",
      "source": [
        "optimizer = tf.train.AdamOptimizer(1e-3)\n",
        "train = optimizer.minimize(loss)"
      ],
      "execution_count": 0,
      "outputs": []
    },
    {
      "metadata": {
        "id": "tAKcNWnVFipu",
        "colab_type": "code",
        "colab": {
          "autoexec": {
            "startup": false,
            "wait_interval": 0
          }
        }
      },
      "cell_type": "code",
      "source": [
        "init = tf.global_variables_initializer()"
      ],
      "execution_count": 0,
      "outputs": []
    },
    {
      "metadata": {
        "id": "JbpfhLuuFq2e",
        "colab_type": "code",
        "colab": {
          "autoexec": {
            "startup": false,
            "wait_interval": 0
          }
        }
      },
      "cell_type": "code",
      "source": [
        "saver = tf.train.Saver() \n",
        "saver_path = '/tmp/cae-2/'"
      ],
      "execution_count": 0,
      "outputs": []
    },
    {
      "metadata": {
        "id": "FBpKoOqiFm8e",
        "colab_type": "code",
        "colab": {
          "autoexec": {
            "startup": false,
            "wait_interval": 0
          },
          "base_uri": "https://localhost:8080/",
          "height": 867
        },
        "outputId": "3f57a9e6-6aed-4f88-bbd3-69f3cacb4beb",
        "executionInfo": {
          "status": "ok",
          "timestamp": 1524079549966,
          "user_tz": -270,
          "elapsed": 307748,
          "user": {
            "displayName": "Mehrdad Farahani",
            "photoUrl": "//lh4.googleusercontent.com/-FOBF4ymyk14/AAAAAAAAAAI/AAAAAAAAFNM/7qxH7khEwBs/s50-c-k-no/photo.jpg",
            "userId": "101963343510395721557"
          }
        }
      },
      "cell_type": "code",
      "source": [
        "num_epochs = 50\n",
        "batch_size = 128\n",
        "\n",
        "with tf.Session() as sess:\n",
        "\n",
        "  sess.run(init)\n",
        "\n",
        "  # Epoch == Entire Training Set\n",
        "  for epoch in range(num_epochs):\n",
        "\n",
        "    num_batches = mnist.train.num_examples // batch_size\n",
        "\n",
        "    # 150 batch size\n",
        "    for iteration in range(num_batches):\n",
        "\n",
        "      X_batch, y_batch = mnist.train.next_batch(batch_size)\n",
        "      sess.run(train, feed_dict={X: X_batch})\n",
        "\n",
        "    training_loss = loss.eval(feed_dict={X: X_batch})   \n",
        "\n",
        "    print(\"Epoch {} Complete. Training Loss: {}\".format(epoch,training_loss))\n",
        "  \n",
        "  if not os.path.exists(saver_path):\n",
        "    os.makedirs(saver_path)\n",
        "  saver.save(sess, saver_path + \"cae.ckpt\") "
      ],
      "execution_count": 10,
      "outputs": [
        {
          "output_type": "stream",
          "text": [
            "Epoch 0 Complete. Training Loss: 0.02272389456629753\n",
            "Epoch 1 Complete. Training Loss: 0.01913866028189659\n",
            "Epoch 2 Complete. Training Loss: 0.01737646386027336\n",
            "Epoch 3 Complete. Training Loss: 0.017524613067507744\n",
            "Epoch 4 Complete. Training Loss: 0.014997278340160847\n",
            "Epoch 5 Complete. Training Loss: 0.014512867666780949\n",
            "Epoch 6 Complete. Training Loss: 0.01325580757111311\n",
            "Epoch 7 Complete. Training Loss: 0.013216841034591198\n",
            "Epoch 8 Complete. Training Loss: 0.013516775332391262\n",
            "Epoch 9 Complete. Training Loss: 0.013068136759102345\n",
            "Epoch 10 Complete. Training Loss: 0.012555012479424477\n",
            "Epoch 11 Complete. Training Loss: 0.012122995220124722\n",
            "Epoch 12 Complete. Training Loss: 0.011756961233913898\n",
            "Epoch 13 Complete. Training Loss: 0.012137028388679028\n",
            "Epoch 14 Complete. Training Loss: 0.012210346758365631\n",
            "Epoch 15 Complete. Training Loss: 0.011412523686885834\n",
            "Epoch 16 Complete. Training Loss: 0.011929281987249851\n",
            "Epoch 17 Complete. Training Loss: 0.011369582265615463\n",
            "Epoch 18 Complete. Training Loss: 0.010775062255561352\n",
            "Epoch 19 Complete. Training Loss: 0.011382964439690113\n",
            "Epoch 20 Complete. Training Loss: 0.011415394023060799\n",
            "Epoch 21 Complete. Training Loss: 0.010510456748306751\n",
            "Epoch 22 Complete. Training Loss: 0.009937320835888386\n",
            "Epoch 23 Complete. Training Loss: 0.010232426226139069\n",
            "Epoch 24 Complete. Training Loss: 0.010279973968863487\n",
            "Epoch 25 Complete. Training Loss: 0.011300058104097843\n",
            "Epoch 26 Complete. Training Loss: 0.009990263730287552\n",
            "Epoch 27 Complete. Training Loss: 0.010487876832485199\n",
            "Epoch 28 Complete. Training Loss: 0.010283625684678555\n",
            "Epoch 29 Complete. Training Loss: 0.010294757783412933\n",
            "Epoch 30 Complete. Training Loss: 0.010049308650195599\n",
            "Epoch 31 Complete. Training Loss: 0.009460712783038616\n",
            "Epoch 32 Complete. Training Loss: 0.00972997210919857\n",
            "Epoch 33 Complete. Training Loss: 0.010104641318321228\n",
            "Epoch 34 Complete. Training Loss: 0.010195659473538399\n",
            "Epoch 35 Complete. Training Loss: 0.009210583753883839\n",
            "Epoch 36 Complete. Training Loss: 0.009059720672667027\n",
            "Epoch 37 Complete. Training Loss: 0.009639272466301918\n",
            "Epoch 38 Complete. Training Loss: 0.009473203681409359\n",
            "Epoch 39 Complete. Training Loss: 0.008840328082442284\n",
            "Epoch 40 Complete. Training Loss: 0.009847940877079964\n",
            "Epoch 41 Complete. Training Loss: 0.010170672088861465\n",
            "Epoch 42 Complete. Training Loss: 0.009177385829389095\n",
            "Epoch 43 Complete. Training Loss: 0.009611845016479492\n",
            "Epoch 44 Complete. Training Loss: 0.009705917909741402\n",
            "Epoch 45 Complete. Training Loss: 0.009566618129611015\n",
            "Epoch 46 Complete. Training Loss: 0.009604552760720253\n",
            "Epoch 47 Complete. Training Loss: 0.009662667289376259\n",
            "Epoch 48 Complete. Training Loss: 0.009096838533878326\n",
            "Epoch 49 Complete. Training Loss: 0.00887045357376337\n"
          ],
          "name": "stdout"
        }
      ]
    },
    {
      "metadata": {
        "id": "1TIRRZHdFwsu",
        "colab_type": "code",
        "colab": {
          "autoexec": {
            "startup": false,
            "wait_interval": 0
          },
          "base_uri": "https://localhost:8080/",
          "height": 280
        },
        "outputId": "916a7b0c-dec1-49e9-80f3-0b451710b07c",
        "executionInfo": {
          "status": "ok",
          "timestamp": 1524079564235,
          "user_tz": -270,
          "elapsed": 2394,
          "user": {
            "displayName": "Mehrdad Farahani",
            "photoUrl": "//lh4.googleusercontent.com/-FOBF4ymyk14/AAAAAAAAAAI/AAAAAAAAFNM/7qxH7khEwBs/s50-c-k-no/photo.jpg",
            "userId": "101963343510395721557"
          }
        }
      },
      "cell_type": "code",
      "source": [
        "num_test_images = 10\n",
        "\n",
        "with tf.Session() as sess:\n",
        "\n",
        "  saver.restore(sess, saver_path + \"cae.ckpt\")\n",
        "\n",
        "  results = decoded.eval(feed_dict={X:mnist.test.images[:num_test_images]})\n",
        "\n",
        "# Compare original images with their reconstructions\n",
        "f, a = plt.subplots(2, 10, figsize=(20, 4))\n",
        "for i in range(num_test_images):\n",
        "  a[0][i].imshow(np.reshape(mnist.test.images[i], (28, 28)))\n",
        "  a[1][i].imshow(np.reshape(results[i], (28, 28)))"
      ],
      "execution_count": 11,
      "outputs": [
        {
          "output_type": "stream",
          "text": [
            "INFO:tensorflow:Restoring parameters from /tmp/cae-2/cae.ckpt\n"
          ],
          "name": "stdout"
        },
        {
          "output_type": "display_data",
          "data": {
            "image/png": "[encoded data removed]",
            "text/plain": [
              "<matplotlib.figure.Figure at 0x7fea4a524860>"
            ]
          },
          "metadata": {
            "tags": []
          }
        }
      ]
    },
    {
      "metadata": {
        "id": "eMCDOgLVOhnY",
        "colab_type": "text"
      },
      "cell_type": "markdown",
      "source": [
        "# References:\n",
        "- [Introduction to Autoencoders\n",
        "](https://www.doc.ic.ac.uk/~js4416/163/website/autoencoders/#XG.E.Hinton2006)\n",
        "- [Autoencoders — Introduction and Implementation in TF.](https://towardsdatascience.com/autoencoders-introduction-and-implementation-3f40483b0a85)\n",
        "- [THE MNIST DATABASE](http://yann.lecun.com/exdb/mnist/)"
      ]
    },
    {
      "metadata": {
        "id": "tAeVubSYL8fw",
        "colab_type": "code",
        "colab": {
          "autoexec": {
            "startup": false,
            "wait_interval": 0
          }
        }
      },
      "cell_type": "code",
      "source": [
        ""
      ],
      "execution_count": 0,
      "outputs": []
    }
  ]
}